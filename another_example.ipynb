{
 "cells": [
  {
   "cell_type": "code",
   "execution_count": 1,
   "id": "1708642c-c44c-4b8c-8c77-4ed608588f23",
   "metadata": {},
   "outputs": [],
   "source": [
    "cat <- 'meow'"
   ]
  },
  {
   "cell_type": "code",
   "execution_count": 2,
   "id": "b65f1385-272d-4016-99a4-266bea8b8784",
   "metadata": {},
   "outputs": [
    {
     "data": {
      "text/html": [
       "'meow'"
      ],
      "text/latex": [
       "'meow'"
      ],
      "text/markdown": [
       "'meow'"
      ],
      "text/plain": [
       "[1] \"meow\""
      ]
     },
     "metadata": {},
     "output_type": "display_data"
    }
   ],
   "source": [
    "cat"
   ]
  },
  {
   "cell_type": "code",
   "execution_count": 3,
   "id": "5db1da72-a1d7-46f2-b668-ba8f76c5299b",
   "metadata": {},
   "outputs": [],
   "source": [
    "abc <- 'abc'"
   ]
  },
  {
   "cell_type": "code",
   "execution_count": null,
   "id": "ac76dc47-b888-4532-9ad8-14a9dba2acd9",
   "metadata": {},
   "outputs": [],
   "source": []
  }
 ],
 "metadata": {
  "kernelspec": {
   "display_name": "R",
   "language": "R",
   "name": "ir"
  },
  "language_info": {
   "codemirror_mode": "r",
   "file_extension": ".r",
   "mimetype": "text/x-r-source",
   "name": "R",
   "pygments_lexer": "r",
   "version": "4.2.2"
  }
 },
 "nbformat": 4,
 "nbformat_minor": 5
}
